{
  "nbformat": 4,
  "nbformat_minor": 0,
  "metadata": {
    "colab": {
      "provenance": [],
      "authorship_tag": "ABX9TyNzIwVtMjxSPHeBcPQdQxjI",
      "include_colab_link": true
    },
    "kernelspec": {
      "name": "python3",
      "display_name": "Python 3"
    },
    "language_info": {
      "name": "python"
    }
  },
  "cells": [
    {
      "cell_type": "markdown",
      "metadata": {
        "id": "view-in-github",
        "colab_type": "text"
      },
      "source": [
        "<a href=\"https://colab.research.google.com/github/devsiddhant/Colab_operations/blob/master/YT_DLP_with_rclone_support.ipynb\" target=\"_parent\"><img src=\"https://colab.research.google.com/assets/colab-badge.svg\" alt=\"Open In Colab\"/></a>"
      ]
    },
    {
      "cell_type": "code",
      "execution_count": null,
      "metadata": {
        "cellView": "form",
        "id": "wyfZP--BxyEU"
      },
      "outputs": [],
      "source": [
        "#@title 📦 Download and install rclone binary automatically\n",
        "import os\n",
        "import zipfile\n",
        "import shutil\n",
        "\n",
        "# Download latest rclone release for Linux amd64\n",
        "url = \"https://downloads.rclone.org/rclone-current-linux-amd64.zip\"\n",
        "zip_path = \"/content/rclone.zip\"\n",
        "extract_dir = \"/content/rclone_extract\"\n",
        "\n",
        "# Download and unzip\n",
        "print(\"⬇️ Downloading rclone...\")\n",
        "!curl -L -o \"{zip_path}\" \"{url}\"\n",
        "\n",
        "print(\"📦 Extracting...\")\n",
        "os.makedirs(extract_dir, exist_ok=True)\n",
        "with zipfile.ZipFile(zip_path, 'r') as zip_ref:\n",
        "    zip_ref.extractall(extract_dir)\n",
        "\n",
        "# Move the rclone binary to ~/.local/bin\n",
        "bin_path = os.path.expanduser(\"~/.local/bin\")\n",
        "os.makedirs(bin_path, exist_ok=True)\n",
        "\n",
        "# Find the extracted rclone binary path\n",
        "extracted_dir = next((d for d in os.listdir(extract_dir) if d.startswith(\"rclone-\")), None)\n",
        "rclone_binary_src = os.path.join(extract_dir, extracted_dir, \"rclone\")\n",
        "rclone_binary_dest = os.path.join(bin_path, \"rclone\")\n",
        "\n",
        "# Copy and set executable\n",
        "shutil.copy2(rclone_binary_src, rclone_binary_dest)\n",
        "os.chmod(rclone_binary_dest, 0o755)\n",
        "\n",
        "# Update PATH for current session\n",
        "%env PATH=/root/.local/bin:$PATH\n",
        "\n",
        "# Confirm installation\n",
        "print(\"✅ Rclone installed successfully at ~/.local/bin/rclone\\n\")\n",
        "!rclone version\n"
      ]
    },
    {
      "cell_type": "code",
      "source": [
        "#@title Upload your rclone.conf file\n",
        "from google.colab import files\n",
        "import os\n",
        "\n",
        "print(\"📁 Upload your rclone.conf (found locally at ~/.config/rclone/rclone.conf)\")\n",
        "uploaded = files.upload()\n",
        "\n",
        "config_dir = \"/root/.config/rclone\"\n",
        "os.makedirs(config_dir, exist_ok=True)\n",
        "\n",
        "for name in uploaded:\n",
        "    if name.endswith(\".conf\"):\n",
        "        os.rename(name, os.path.join(config_dir, \"rclone.conf\"))\n",
        "        print(f\"✔️ Uploaded and moved {name} to {config_dir}/rclone.conf\")\n"
      ],
      "metadata": {
        "cellView": "form",
        "id": "Q8Y6c15-zo8d"
      },
      "execution_count": null,
      "outputs": []
    },
    {
      "cell_type": "code",
      "source": [
        "#@title Install yt-dlp and required dependencies\n",
        "!pip install -U yt-dlp\n",
        "!apt-get install -y ffmpeg\n"
      ],
      "metadata": {
        "cellView": "form",
        "id": "TZfargH6KsyO"
      },
      "execution_count": null,
      "outputs": []
    },
    {
      "cell_type": "code",
      "source": [
        "#@title Prompt to choose rclone remote for upload\n",
        "import subprocess\n",
        "\n",
        "# List available rclone remotes\n",
        "remotes = subprocess.check_output(['rclone', 'listremotes']).decode('utf-8').splitlines()\n",
        "\n",
        "# Ask user for their choice of remote\n",
        "remote = input(f\"Choose your rclone remote from the following: {', '.join(remotes)}\\n\")\n",
        "\n",
        "# Validate the input\n",
        "if remote not in remotes:\n",
        "    raise ValueError(\"Invalid remote selected.\")\n"
      ],
      "metadata": {
        "cellView": "form",
        "id": "LSWNgGYNKxvv"
      },
      "execution_count": null,
      "outputs": []
    },
    {
      "cell_type": "code",
      "source": [
        "#@title Config for videos\n",
        "import yt_dlp\n",
        "\n",
        "def download_video(url, remote):\n",
        "    # yt-dlp options to download the best quality video up to 1080p and audio, merge them\n",
        "    ydl_opts = {\n",
        "        'format': 'bestaudio/best[height<=1080]',\n",
        "        'outtmpl': '/tmp/%(title)s.%(ext)s',  # Temporary download location\n",
        "        'postprocessors': [{\n",
        "            'key': 'FFmpegVideoConvertor',\n",
        "            'preferredformat': 'mp4',  # Convert to mp4 format\n",
        "        }],\n",
        "        'merge_output_format': 'mp4',  # Ensure audio and video are merged as mp4\n",
        "        'noplaylist': True,  # If a playlist is given, treat as individual videos\n",
        "    }\n",
        "\n",
        "    with yt_dlp.YoutubeDL(ydl_opts) as ydl:\n",
        "        info = ydl.extract_info(url, download=True)\n",
        "        file_path = f\"/tmp/{info['title']}.mp4\"\n",
        "        print(f\"Downloaded: {file_path}\")\n",
        "\n",
        "        # Upload to rclone remote\n",
        "        subprocess.run(['rclone', 'copy', file_path, f'{remote}:/path/to/remote/'])\n",
        "        print(f\"Uploaded {file_path} to {remote}\")\n"
      ],
      "metadata": {
        "cellView": "form",
        "id": "PTGOE0k6K4cO"
      },
      "execution_count": null,
      "outputs": []
    },
    {
      "cell_type": "code",
      "source": [
        "#@title Config for playlists\n",
        "def download_playlist(url, remote):\n",
        "    # yt-dlp options to download the best quality video up to 1080p and audio, merge them\n",
        "    ydl_opts = {\n",
        "        'format': 'bestaudio/best[height<=1080]',\n",
        "        'outtmpl': '/tmp/%(title)s.%(ext)s',  # Temporary download location\n",
        "        'postprocessors': [{\n",
        "            'key': 'FFmpegVideoConvertor',\n",
        "            'preferredformat': 'mp4',  # Convert to mp4 format\n",
        "        }],\n",
        "        'merge_output_format': 'mp4',  # Ensure audio and video are merged as mp4\n",
        "    }\n",
        "\n",
        "    with yt_dlp.YoutubeDL(ydl_opts) as ydl:\n",
        "        info = ydl.extract_info(url, download=True)\n",
        "        # Iterate through each video in the playlist and upload\n",
        "        for entry in info['entries']:\n",
        "            file_path = f\"/tmp/{entry['title']}.mp4\"\n",
        "            print(f\"Downloaded: {file_path}\")\n",
        "\n",
        "            # Upload to rclone remote\n",
        "            subprocess.run(['rclone', 'copy', file_path, f'{remote}:/path/to/remote/'])\n",
        "            print(f\"Uploaded {file_path} to {remote}\")\n"
      ],
      "metadata": {
        "cellView": "form",
        "id": "AoXGAxBDLGda"
      },
      "execution_count": null,
      "outputs": []
    },
    {
      "cell_type": "code",
      "source": [
        "#@title Enter video link and Download\n",
        "video_url = input(\"Enter the video URL: \")\n",
        "download_video(video_url, remote)\n"
      ],
      "metadata": {
        "cellView": "form",
        "id": "fexmIYVlLPTj"
      },
      "execution_count": null,
      "outputs": []
    },
    {
      "cell_type": "code",
      "source": [
        "#@title Enter video link and Download\n",
        "video_url = input(\"Enter the video URL: \")\n",
        "download_video(video_url, remote)\n"
      ],
      "metadata": {
        "cellView": "form",
        "id": "xul_26viv-d1"
      },
      "execution_count": null,
      "outputs": []
    }
  ]
}