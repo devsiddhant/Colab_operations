{
  "nbformat": 4,
  "nbformat_minor": 0,
  "metadata": {
    "colab": {
      "provenance": []
    },
    "kernelspec": {
      "name": "python3",
      "display_name": "Python 3"
    },
    "language_info": {
      "name": "python"
    }
  },
  "cells": [
    {
      "cell_type": "code",
      "execution_count": null,
      "metadata": {
        "cellView": "form",
        "id": "wyfZP--BxyEU"
      },
      "outputs": [],
      "source": [
        "#@title 📦 Download and install rclone binary automatically\n",
        "import os\n",
        "import zipfile\n",
        "import shutil\n",
        "\n",
        "# Download latest rclone release for Linux amd64\n",
        "url = \"https://downloads.rclone.org/rclone-current-linux-amd64.zip\"\n",
        "zip_path = \"/content/rclone.zip\"\n",
        "extract_dir = \"/content/rclone_extract\"\n",
        "\n",
        "# Download and unzip\n",
        "print(\"⬇️ Downloading rclone...\")\n",
        "!curl -L -o \"{zip_path}\" \"{url}\"\n",
        "\n",
        "print(\"📦 Extracting...\")\n",
        "os.makedirs(extract_dir, exist_ok=True)\n",
        "with zipfile.ZipFile(zip_path, 'r') as zip_ref:\n",
        "    zip_ref.extractall(extract_dir)\n",
        "\n",
        "# Move the rclone binary to ~/.local/bin\n",
        "bin_path = os.path.expanduser(\"~/.local/bin\")\n",
        "os.makedirs(bin_path, exist_ok=True)\n",
        "\n",
        "# Find the extracted rclone binary path\n",
        "extracted_dir = next((d for d in os.listdir(extract_dir) if d.startswith(\"rclone-\")), None)\n",
        "rclone_binary_src = os.path.join(extract_dir, extracted_dir, \"rclone\")\n",
        "rclone_binary_dest = os.path.join(bin_path, \"rclone\")\n",
        "\n",
        "# Copy and set executable\n",
        "shutil.copy2(rclone_binary_src, rclone_binary_dest)\n",
        "os.chmod(rclone_binary_dest, 0o755)\n",
        "\n",
        "# Update PATH for current session\n",
        "%env PATH=/root/.local/bin:$PATH\n",
        "\n",
        "# Confirm installation\n",
        "print(\"✅ Rclone installed successfully at ~/.local/bin/rclone\\n\")\n",
        "!rclone version\n"
      ]
    },
    {
      "cell_type": "code",
      "source": [
        "#@title Upload your rclone.conf file\n",
        "from google.colab import files\n",
        "import os\n",
        "\n",
        "print(\"📁 Upload your rclone.conf (found locally at ~/.config/rclone/rclone.conf)\")\n",
        "uploaded = files.upload()\n",
        "\n",
        "config_dir = \"/root/.config/rclone\"\n",
        "os.makedirs(config_dir, exist_ok=True)\n",
        "\n",
        "for name in uploaded:\n",
        "    if name.endswith(\".conf\"):\n",
        "        os.rename(name, os.path.join(config_dir, \"rclone.conf\"))\n",
        "        print(f\"✔️ Uploaded and moved {name} to {config_dir}/rclone.conf\")\n"
      ],
      "metadata": {
        "cellView": "form",
        "id": "Q8Y6c15-zo8d"
      },
      "execution_count": null,
      "outputs": []
    },
    {
      "cell_type": "code",
      "source": [
        "#@title Install yt-dlp and required dependencies\n",
        "!pip install -U yt-dlp\n",
        "!apt-get install -y ffmpeg\n"
      ],
      "metadata": {
        "id": "TZfargH6KsyO",
        "outputId": "b29dd307-38d1-4ef3-d503-ac37d3b8eb43",
        "colab": {
          "base_uri": "https://localhost:8080/"
        }
      },
      "execution_count": 23,
      "outputs": [
        {
          "output_type": "stream",
          "name": "stdout",
          "text": [
            "/bin/bash: line 1: pip: command not found\n",
            "/bin/bash: line 1: apt-get: command not found\n"
          ]
        }
      ]
    },
    {
      "cell_type": "code",
      "source": [
        "#@title Prompt to choose rclone remote for upload\n",
        "import subprocess\n",
        "\n",
        "# List available rclone remotes\n",
        "remotes = subprocess.check_output(['rclone', 'listremotes']).decode('utf-8').splitlines()\n",
        "\n",
        "# Ask user for their choice of remote\n",
        "remote = input(f\"Choose your rclone remote from the following: {', '.join(remotes)}\\n\")\n",
        "\n",
        "# Validate the input\n",
        "if remote not in remotes:\n",
        "    raise ValueError(\"Invalid remote selected.\")\n"
      ],
      "metadata": {
        "cellView": "form",
        "id": "LSWNgGYNKxvv",
        "outputId": "ab4dcda8-0a9a-41ac-fabc-c82f2e17e045",
        "colab": {
          "base_uri": "https://localhost:8080/"
        }
      },
      "execution_count": 21,
      "outputs": [
        {
          "name": "stdout",
          "output_type": "stream",
          "text": [
            "Choose your rclone remote from the following: bhoe73890:, bhokebaaz5:, Mega_GOH:, Mega_OP1:, Mega_OP2:, Mega_berserk:, Mega_intermediate:, Mega_vagabond:, Mega_vinland:, filen:, photos:\n",
            "Mega_GOH:\n"
          ]
        }
      ]
    },
    {
      "cell_type": "code",
      "source": [
        "#@title Config for videos\n",
        "import yt_dlp\n",
        "\n",
        "def download_video(url, remote):\n",
        "    # yt-dlp options to download the best quality video up to 1080p and audio, merge them\n",
        "    ydl_opts = {\n",
        "        'format': 'bestaudio/best[height<=1080]',\n",
        "        'outtmpl': '/tmp/%(title)s.%(ext)s',  # Temporary download location\n",
        "        'postprocessors': [{\n",
        "            'key': 'FFmpegVideoConvertor',\n",
        "            'preferredformat': 'mp4',  # Convert to mp4 format\n",
        "        }],\n",
        "        'merge_output_format': 'mp4',  # Ensure audio and video are merged as mp4\n",
        "        'noplaylist': True,  # If a playlist is given, treat as individual videos\n",
        "    }\n",
        "\n",
        "    with yt_dlp.YoutubeDL(ydl_opts) as ydl:\n",
        "        info = ydl.extract_info(url, download=True)\n",
        "        file_path = f\"/tmp/{info['title']}.mp4\"\n",
        "        print(f\"Downloaded: {file_path}\")\n",
        "\n",
        "        # Upload to rclone remote\n",
        "        subprocess.run(['rclone', 'copy', file_path, f'{remote}:/path/to/remote/'])\n",
        "        print(f\"Uploaded {file_path} to {remote}\")\n"
      ],
      "metadata": {
        "cellView": "form",
        "id": "PTGOE0k6K4cO",
        "outputId": "7577b924-699a-4ce8-ca68-8d5d09678665",
        "colab": {
          "base_uri": "https://localhost:8080/",
          "height": 401
        }
      },
      "execution_count": 22,
      "outputs": [
        {
          "output_type": "error",
          "ename": "ModuleNotFoundError",
          "evalue": "No module named 'yt_dlp'",
          "traceback": [
            "\u001b[0;31m---------------------------------------------------------------------------\u001b[0m",
            "\u001b[0;31mModuleNotFoundError\u001b[0m                       Traceback (most recent call last)",
            "\u001b[0;32m<ipython-input-22-0dc7bbe364d1>\u001b[0m in \u001b[0;36m<cell line: 0>\u001b[0;34m()\u001b[0m\n\u001b[1;32m      1\u001b[0m \u001b[0;31m#@title Config for videos\u001b[0m\u001b[0;34m\u001b[0m\u001b[0;34m\u001b[0m\u001b[0m\n\u001b[0;32m----> 2\u001b[0;31m \u001b[0;32mimport\u001b[0m \u001b[0myt_dlp\u001b[0m\u001b[0;34m\u001b[0m\u001b[0;34m\u001b[0m\u001b[0m\n\u001b[0m\u001b[1;32m      3\u001b[0m \u001b[0;34m\u001b[0m\u001b[0m\n\u001b[1;32m      4\u001b[0m \u001b[0;32mdef\u001b[0m \u001b[0mdownload_video\u001b[0m\u001b[0;34m(\u001b[0m\u001b[0murl\u001b[0m\u001b[0;34m,\u001b[0m \u001b[0mremote\u001b[0m\u001b[0;34m)\u001b[0m\u001b[0;34m:\u001b[0m\u001b[0;34m\u001b[0m\u001b[0;34m\u001b[0m\u001b[0m\n\u001b[1;32m      5\u001b[0m     \u001b[0;31m# yt-dlp options to download the best quality video up to 1080p and audio, merge them\u001b[0m\u001b[0;34m\u001b[0m\u001b[0;34m\u001b[0m\u001b[0m\n",
            "\u001b[0;31mModuleNotFoundError\u001b[0m: No module named 'yt_dlp'",
            "",
            "\u001b[0;31m---------------------------------------------------------------------------\u001b[0;32m\nNOTE: If your import is failing due to a missing package, you can\nmanually install dependencies using either !pip or !apt.\n\nTo view examples of installing some common dependencies, click the\n\"Open Examples\" button below.\n\u001b[0;31m---------------------------------------------------------------------------\u001b[0m\n"
          ],
          "errorDetails": {
            "actions": [
              {
                "action": "open_url",
                "actionText": "Open Examples",
                "url": "/notebooks/snippets/importing_libraries.ipynb"
              }
            ]
          }
        }
      ]
    },
    {
      "cell_type": "code",
      "source": [
        "#@title Config for playlists\n",
        "def download_playlist(url, remote):\n",
        "    # yt-dlp options to download the best quality video up to 1080p and audio, merge them\n",
        "    ydl_opts = {\n",
        "        'format': 'bestaudio/best[height<=1080]',\n",
        "        'outtmpl': '/tmp/%(title)s.%(ext)s',  # Temporary download location\n",
        "        'postprocessors': [{\n",
        "            'key': 'FFmpegVideoConvertor',\n",
        "            'preferredformat': 'mp4',  # Convert to mp4 format\n",
        "        }],\n",
        "        'merge_output_format': 'mp4',  # Ensure audio and video are merged as mp4\n",
        "    }\n",
        "\n",
        "    with yt_dlp.YoutubeDL(ydl_opts) as ydl:\n",
        "        info = ydl.extract_info(url, download=True)\n",
        "        # Iterate through each video in the playlist and upload\n",
        "        for entry in info['entries']:\n",
        "            file_path = f\"/tmp/{entry['title']}.mp4\"\n",
        "            print(f\"Downloaded: {file_path}\")\n",
        "\n",
        "            # Upload to rclone remote\n",
        "            subprocess.run(['rclone', 'copy', file_path, f'{remote}:/path/to/remote/'])\n",
        "            print(f\"Uploaded {file_path} to {remote}\")\n"
      ],
      "metadata": {
        "cellView": "form",
        "id": "AoXGAxBDLGda"
      },
      "execution_count": null,
      "outputs": []
    },
    {
      "cell_type": "code",
      "source": [
        "#@title Enter video link and Download\n",
        "video_url = input(\"Enter the video URL: \")\n",
        "download_video(video_url, remote)\n"
      ],
      "metadata": {
        "cellView": "form",
        "id": "fexmIYVlLPTj"
      },
      "execution_count": null,
      "outputs": []
    },
    {
      "cell_type": "code",
      "source": [
        "#@title Enter playlist link and download\n",
        "playlist_url = input(\"Enter the playlist URL: \")\n",
        "download_playlist(playlist_url, remote)\n"
      ],
      "metadata": {
        "id": "QtUJiZX8LYLJ"
      },
      "execution_count": null,
      "outputs": []
    },
    {
      "cell_type": "code",
      "source": [
        "#@title 🔗 Mount an rclone remote\n",
        "import os\n",
        "\n",
        "# Make sure rclone binary and rclone.conf are already uploaded and configured\n",
        "mount_path = \"/content/remote\"\n",
        "\n",
        "# Ask user for remote name (as it appears in rclone.conf)\n",
        "remote = input(\"Enter the name of your rclone remote (as in rclone.conf): \")\n",
        "\n",
        "# Create the mount directory\n",
        "os.makedirs(mount_path, exist_ok=True)\n",
        "\n",
        "# Mount the remote\n",
        "# '--daemon' runs rclone in the background, '--allow-other' lets other processes access it\n",
        "!rclone mount \"{remote}\": \"{mount_path}\" --daemon --allow-other --vfs-cache-mode writes\n",
        "\n",
        "print(f\"✅ Remote '{remote}' mounted at {mount_path}\")\n"
      ],
      "metadata": {
        "cellView": "form",
        "id": "3GAEJZOV1GBL"
      },
      "execution_count": null,
      "outputs": []
    },
    {
      "cell_type": "code",
      "source": [
        "#@title Install dependencies\n",
        "!python -m pip install --upgrade pip setuptools wheel && python -m pip install lbry-libtorrent && apt install python3-libtorrent > /dev/null 2>&1\n",
        "\n"
      ],
      "metadata": {
        "cellView": "form",
        "id": "D-3QDdhPAbO4"
      },
      "execution_count": null,
      "outputs": []
    },
    {
      "cell_type": "code",
      "source": [
        "#@title Enter the magnet link\n",
        "import libtorrent as lt\n",
        "import time\n",
        "import datetime\n",
        "import os\n",
        "\n",
        "def choose_files(files):\n",
        "    print(\"\\n🔍 Torrent contains the following files:\\n\")\n",
        "    for i, f in enumerate(files):\n",
        "        print(f\"[{i}] {f.path} ({f.size // (1024 * 1024)} MB)\")\n",
        "\n",
        "    selected = input(\"\\nEnter indices of files to download (comma-separated), or 'all' to select all: \")\n",
        "\n",
        "    if selected.strip().lower() == 'all':\n",
        "        return list(range(len(files)))\n",
        "    else:\n",
        "        try:\n",
        "            indices = [int(i.strip()) for i in selected.split(',')]\n",
        "            return indices\n",
        "        except:\n",
        "            print(\"❌ Invalid input. Downloading all files.\")\n",
        "            return list(range(len(files)))\n",
        "\n",
        "def download_and_upload(remote_name, remote_path):\n",
        "    ses = lt.session()\n",
        "    ses.listen_on(6881, 6891)\n",
        "\n",
        "    # Set no download/upload rate limits for unrestricted speeds\n",
        "    ses.set_download_rate_limit(0)  # Unlimited download rate\n",
        "    ses.set_upload_rate_limit(0)  # Unlimited upload rate (this can be kept or disabled)\n",
        "\n",
        "    # Optional: Limit the number of connections and uploads to optimize performance\n",
        "    ses.set_max_connections(200)  # Increase max connections\n",
        "    ses.set_max_uploads(10)  # Limit the number of upload connections (optional)\n",
        "\n",
        "    params = {\n",
        "        'save_path': '/content/Downloads/',\n",
        "        'storage_mode': lt.storage_mode_t(2),\n",
        "    }\n",
        "\n",
        "    magnet = input(\"🔗 Enter magnet link: \").strip()\n",
        "    handle = lt.add_magnet_uri(ses, magnet, params)\n",
        "    handle.set_sequential_download(False)\n",
        "    ses.start_dht()\n",
        "\n",
        "    print(\"\\n⏳ Fetching metadata...\")\n",
        "    while not handle.has_metadata():\n",
        "        time.sleep(1)\n",
        "\n",
        "    torrent_info = handle.get_torrent_info()\n",
        "    files = torrent_info.files()\n",
        "\n",
        "    selected_indices = choose_files(files)\n",
        "\n",
        "    for idx in range(len(files)):\n",
        "        if idx not in selected_indices:\n",
        "            handle.file_priority(idx, 0)\n",
        "\n",
        "    print(f\"\\n✅ Starting download: {torrent_info.name()}\")\n",
        "    print(datetime.datetime.now())\n",
        "\n",
        "    while handle.status().state != lt.torrent_status.seeding:\n",
        "        s = handle.status()\n",
        "        state_str = ['queued', 'checking', 'downloading metadata',\n",
        "                     'downloading', 'finished', 'seeding', 'allocating']\n",
        "        print(f\"{s.progress * 100:.2f}% complete (↓ {s.download_rate/1000:.1f} kB/s | ↑ {s.upload_rate/1000:.1f} kB/s | peers: {s.num_peers}) [{state_str[s.state]}]\")\n",
        "        time.sleep(5)\n",
        "\n",
        "    print(f\"\\n🎉 Download complete: {handle.name()}\")\n",
        "    print(\"📤 Uploading to rclone remote...\")\n",
        "\n",
        "    # Remote path like: myremote:path/in/remote\n",
        "    full_remote_path = f\"{remote_name}:{remote_path.rstrip('/')}/{handle.name()}\"\n",
        "\n",
        "    !rclone copy \"/content/Downloads/{handle.name()}\" \"{full_remote_path}\" --quiet\n",
        "\n",
        "    print(\"✅ Upload finished!\")\n",
        "\n",
        "# Usage\n",
        "remote = input(\"🌐 Enter your rclone remote name (e.g., gdrive): \").strip()\n",
        "rpath = input(\"📁 Enter path in remote (e.g., Torrents/Anime): \").strip()\n",
        "download_and_upload(remote, rpath)\n"
      ],
      "metadata": {
        "cellView": "form",
        "id": "CUtpyX7YG-az"
      },
      "execution_count": null,
      "outputs": []
    }
  ]
}