{
  "nbformat": 4,
  "nbformat_minor": 0,
  "metadata": {
    "colab": {
      "provenance": [],
      "authorship_tag": "ABX9TyP5EQ9cnWl3g4gNMNXFpC6R",
      "include_colab_link": true
    },
    "kernelspec": {
      "name": "python3",
      "display_name": "Python 3"
    },
    "language_info": {
      "name": "python"
    }
  },
  "cells": [
    {
      "cell_type": "markdown",
      "metadata": {
        "id": "view-in-github",
        "colab_type": "text"
      },
      "source": [
        "<a href=\"https://colab.research.google.com/github/devsiddhant/Colab_operations/blob/master/File_Compression_and_Extraction.ipynb\" target=\"_parent\"><img src=\"https://colab.research.google.com/assets/colab-badge.svg\" alt=\"Open In Colab\"/></a>"
      ]
    },
    {
      "cell_type": "code",
      "source": [
        "#@title 🔗 Step 1: Mount Google Drive & Download Files There\n",
        "\n",
        "from google.colab import drive\n",
        "import os\n",
        "import urllib.request\n",
        "\n",
        "# Mount Google Drive\n",
        "drive.mount('/content/drive')\n",
        "\n",
        "# Set download path\n",
        "gdrive_download_path = \"/content/drive/My Drive/downloads\"\n",
        "os.makedirs(gdrive_download_path, exist_ok=True)\n",
        "\n",
        "# Input loop for download links\n",
        "download_links = []\n",
        "\n",
        "print(\"Paste your direct download links one by one. Type 's' to start downloading.\")\n",
        "while True:\n",
        "    link = input(\"Enter direct download link (or 's' to start): \")\n",
        "    if link.lower() == 's':\n",
        "        break\n",
        "    download_links.append(link)\n",
        "\n",
        "# Start downloading to Google Drive\n",
        "for link in download_links:\n",
        "    filename = os.path.basename(link.split(\"?\")[0])\n",
        "    filepath = os.path.join(gdrive_download_path, filename)\n",
        "    print(f\"Downloading {link} to {filepath}...\")\n",
        "    urllib.request.urlretrieve(link, filepath)\n",
        "\n",
        "print(\"✅ All downloads complete in Google Drive.\")\n"
      ],
      "metadata": {
        "cellView": "form",
        "id": "ns6AgNWNUvTt"
      },
      "execution_count": null,
      "outputs": []
    },
    {
      "cell_type": "code",
      "execution_count": 1,
      "metadata": {
        "cellView": "form",
        "id": "wyfZP--BxyEU",
        "colab": {
          "base_uri": "https://localhost:8080/"
        },
        "outputId": "cf64709c-d5fb-4986-fa59-d00e80fc2aff"
      },
      "outputs": [
        {
          "output_type": "stream",
          "name": "stdout",
          "text": [
            "⬇️ Downloading rclone...\n",
            "  % Total    % Received % Xferd  Average Speed   Time    Time     Time  Current\n",
            "                                 Dload  Upload   Total   Spent    Left  Speed\n",
            "100 22.2M  100 22.2M    0     0  9344k      0  0:00:02  0:00:02 --:--:-- 9343k\n",
            "📦 Extracting...\n",
            "env: PATH=/root/.local/bin:$PATH\n",
            "✅ Rclone installed successfully at ~/.local/bin/rclone\n",
            "\n",
            "rclone v1.69.2\n",
            "- os/version: ubuntu 22.04 (64 bit)\n",
            "- os/kernel: 6.1.123+ (x86_64)\n",
            "- os/type: linux\n",
            "- os/arch: amd64\n",
            "- go/version: go1.24.2\n",
            "- go/linking: static\n",
            "- go/tags: none\n"
          ]
        }
      ],
      "source": [
        "#@title 📦 Download and install rclone binary automatically\n",
        "import os\n",
        "import zipfile\n",
        "import shutil\n",
        "\n",
        "# Download latest rclone release for Linux amd64\n",
        "url = \"https://downloads.rclone.org/rclone-current-linux-amd64.zip\"\n",
        "zip_path = \"/content/rclone.zip\"\n",
        "extract_dir = \"/content/rclone_extract\"\n",
        "\n",
        "# Download and unzip\n",
        "print(\"⬇️ Downloading rclone...\")\n",
        "!curl -L -o \"{zip_path}\" \"{url}\"\n",
        "\n",
        "print(\"📦 Extracting...\")\n",
        "os.makedirs(extract_dir, exist_ok=True)\n",
        "with zipfile.ZipFile(zip_path, 'r') as zip_ref:\n",
        "    zip_ref.extractall(extract_dir)\n",
        "\n",
        "# Move the rclone binary to ~/.local/bin\n",
        "bin_path = os.path.expanduser(\"~/.local/bin\")\n",
        "os.makedirs(bin_path, exist_ok=True)\n",
        "\n",
        "# Find the extracted rclone binary path\n",
        "extracted_dir = next((d for d in os.listdir(extract_dir) if d.startswith(\"rclone-\")), None)\n",
        "rclone_binary_src = os.path.join(extract_dir, extracted_dir, \"rclone\")\n",
        "rclone_binary_dest = os.path.join(bin_path, \"rclone\")\n",
        "\n",
        "# Copy and set executable\n",
        "shutil.copy2(rclone_binary_src, rclone_binary_dest)\n",
        "os.chmod(rclone_binary_dest, 0o755)\n",
        "\n",
        "# Update PATH for current session\n",
        "%env PATH=/root/.local/bin:$PATH\n",
        "\n",
        "# Confirm installation\n",
        "print(\"✅ Rclone installed successfully at ~/.local/bin/rclone\\n\")\n",
        "!rclone version\n"
      ]
    },
    {
      "cell_type": "code",
      "source": [
        "#@title Upload your rclone.conf file\n",
        "from google.colab import files\n",
        "import os\n",
        "\n",
        "print(\"📁 Upload your rclone.conf (found locally at ~/.config/rclone/rclone.conf)\")\n",
        "uploaded = files.upload()\n",
        "\n",
        "config_dir = \"/root/.config/rclone\"\n",
        "os.makedirs(config_dir, exist_ok=True)\n",
        "\n",
        "for name in uploaded:\n",
        "    if name.endswith(\".conf\"):\n",
        "        os.rename(name, os.path.join(config_dir, \"rclone.conf\"))\n",
        "        print(f\"✔️ Uploaded and moved {name} to {config_dir}/rclone.conf\")\n"
      ],
      "metadata": {
        "cellView": "form",
        "id": "Q8Y6c15-zo8d",
        "colab": {
          "base_uri": "https://localhost:8080/",
          "height": 111
        },
        "outputId": "bac31204-14cb-462f-cdc9-5578348f9c87"
      },
      "execution_count": 2,
      "outputs": [
        {
          "output_type": "stream",
          "name": "stdout",
          "text": [
            "📁 Upload your rclone.conf (found locally at ~/.config/rclone/rclone.conf)\n"
          ]
        },
        {
          "output_type": "display_data",
          "data": {
            "text/plain": [
              "<IPython.core.display.HTML object>"
            ],
            "text/html": [
              "\n",
              "     <input type=\"file\" id=\"files-edb3af13-9055-4a62-b577-5fd5a38b8746\" name=\"files[]\" multiple disabled\n",
              "        style=\"border:none\" />\n",
              "     <output id=\"result-edb3af13-9055-4a62-b577-5fd5a38b8746\">\n",
              "      Upload widget is only available when the cell has been executed in the\n",
              "      current browser session. Please rerun this cell to enable.\n",
              "      </output>\n",
              "      <script>// Copyright 2017 Google LLC\n",
              "//\n",
              "// Licensed under the Apache License, Version 2.0 (the \"License\");\n",
              "// you may not use this file except in compliance with the License.\n",
              "// You may obtain a copy of the License at\n",
              "//\n",
              "//      http://www.apache.org/licenses/LICENSE-2.0\n",
              "//\n",
              "// Unless required by applicable law or agreed to in writing, software\n",
              "// distributed under the License is distributed on an \"AS IS\" BASIS,\n",
              "// WITHOUT WARRANTIES OR CONDITIONS OF ANY KIND, either express or implied.\n",
              "// See the License for the specific language governing permissions and\n",
              "// limitations under the License.\n",
              "\n",
              "/**\n",
              " * @fileoverview Helpers for google.colab Python module.\n",
              " */\n",
              "(function(scope) {\n",
              "function span(text, styleAttributes = {}) {\n",
              "  const element = document.createElement('span');\n",
              "  element.textContent = text;\n",
              "  for (const key of Object.keys(styleAttributes)) {\n",
              "    element.style[key] = styleAttributes[key];\n",
              "  }\n",
              "  return element;\n",
              "}\n",
              "\n",
              "// Max number of bytes which will be uploaded at a time.\n",
              "const MAX_PAYLOAD_SIZE = 100 * 1024;\n",
              "\n",
              "function _uploadFiles(inputId, outputId) {\n",
              "  const steps = uploadFilesStep(inputId, outputId);\n",
              "  const outputElement = document.getElementById(outputId);\n",
              "  // Cache steps on the outputElement to make it available for the next call\n",
              "  // to uploadFilesContinue from Python.\n",
              "  outputElement.steps = steps;\n",
              "\n",
              "  return _uploadFilesContinue(outputId);\n",
              "}\n",
              "\n",
              "// This is roughly an async generator (not supported in the browser yet),\n",
              "// where there are multiple asynchronous steps and the Python side is going\n",
              "// to poll for completion of each step.\n",
              "// This uses a Promise to block the python side on completion of each step,\n",
              "// then passes the result of the previous step as the input to the next step.\n",
              "function _uploadFilesContinue(outputId) {\n",
              "  const outputElement = document.getElementById(outputId);\n",
              "  const steps = outputElement.steps;\n",
              "\n",
              "  const next = steps.next(outputElement.lastPromiseValue);\n",
              "  return Promise.resolve(next.value.promise).then((value) => {\n",
              "    // Cache the last promise value to make it available to the next\n",
              "    // step of the generator.\n",
              "    outputElement.lastPromiseValue = value;\n",
              "    return next.value.response;\n",
              "  });\n",
              "}\n",
              "\n",
              "/**\n",
              " * Generator function which is called between each async step of the upload\n",
              " * process.\n",
              " * @param {string} inputId Element ID of the input file picker element.\n",
              " * @param {string} outputId Element ID of the output display.\n",
              " * @return {!Iterable<!Object>} Iterable of next steps.\n",
              " */\n",
              "function* uploadFilesStep(inputId, outputId) {\n",
              "  const inputElement = document.getElementById(inputId);\n",
              "  inputElement.disabled = false;\n",
              "\n",
              "  const outputElement = document.getElementById(outputId);\n",
              "  outputElement.innerHTML = '';\n",
              "\n",
              "  const pickedPromise = new Promise((resolve) => {\n",
              "    inputElement.addEventListener('change', (e) => {\n",
              "      resolve(e.target.files);\n",
              "    });\n",
              "  });\n",
              "\n",
              "  const cancel = document.createElement('button');\n",
              "  inputElement.parentElement.appendChild(cancel);\n",
              "  cancel.textContent = 'Cancel upload';\n",
              "  const cancelPromise = new Promise((resolve) => {\n",
              "    cancel.onclick = () => {\n",
              "      resolve(null);\n",
              "    };\n",
              "  });\n",
              "\n",
              "  // Wait for the user to pick the files.\n",
              "  const files = yield {\n",
              "    promise: Promise.race([pickedPromise, cancelPromise]),\n",
              "    response: {\n",
              "      action: 'starting',\n",
              "    }\n",
              "  };\n",
              "\n",
              "  cancel.remove();\n",
              "\n",
              "  // Disable the input element since further picks are not allowed.\n",
              "  inputElement.disabled = true;\n",
              "\n",
              "  if (!files) {\n",
              "    return {\n",
              "      response: {\n",
              "        action: 'complete',\n",
              "      }\n",
              "    };\n",
              "  }\n",
              "\n",
              "  for (const file of files) {\n",
              "    const li = document.createElement('li');\n",
              "    li.append(span(file.name, {fontWeight: 'bold'}));\n",
              "    li.append(span(\n",
              "        `(${file.type || 'n/a'}) - ${file.size} bytes, ` +\n",
              "        `last modified: ${\n",
              "            file.lastModifiedDate ? file.lastModifiedDate.toLocaleDateString() :\n",
              "                                    'n/a'} - `));\n",
              "    const percent = span('0% done');\n",
              "    li.appendChild(percent);\n",
              "\n",
              "    outputElement.appendChild(li);\n",
              "\n",
              "    const fileDataPromise = new Promise((resolve) => {\n",
              "      const reader = new FileReader();\n",
              "      reader.onload = (e) => {\n",
              "        resolve(e.target.result);\n",
              "      };\n",
              "      reader.readAsArrayBuffer(file);\n",
              "    });\n",
              "    // Wait for the data to be ready.\n",
              "    let fileData = yield {\n",
              "      promise: fileDataPromise,\n",
              "      response: {\n",
              "        action: 'continue',\n",
              "      }\n",
              "    };\n",
              "\n",
              "    // Use a chunked sending to avoid message size limits. See b/62115660.\n",
              "    let position = 0;\n",
              "    do {\n",
              "      const length = Math.min(fileData.byteLength - position, MAX_PAYLOAD_SIZE);\n",
              "      const chunk = new Uint8Array(fileData, position, length);\n",
              "      position += length;\n",
              "\n",
              "      const base64 = btoa(String.fromCharCode.apply(null, chunk));\n",
              "      yield {\n",
              "        response: {\n",
              "          action: 'append',\n",
              "          file: file.name,\n",
              "          data: base64,\n",
              "        },\n",
              "      };\n",
              "\n",
              "      let percentDone = fileData.byteLength === 0 ?\n",
              "          100 :\n",
              "          Math.round((position / fileData.byteLength) * 100);\n",
              "      percent.textContent = `${percentDone}% done`;\n",
              "\n",
              "    } while (position < fileData.byteLength);\n",
              "  }\n",
              "\n",
              "  // All done.\n",
              "  yield {\n",
              "    response: {\n",
              "      action: 'complete',\n",
              "    }\n",
              "  };\n",
              "}\n",
              "\n",
              "scope.google = scope.google || {};\n",
              "scope.google.colab = scope.google.colab || {};\n",
              "scope.google.colab._files = {\n",
              "  _uploadFiles,\n",
              "  _uploadFilesContinue,\n",
              "};\n",
              "})(self);\n",
              "</script> "
            ]
          },
          "metadata": {}
        },
        {
          "output_type": "stream",
          "name": "stdout",
          "text": [
            "Saving rclone.conf to rclone.conf\n",
            "✔️ Uploaded and moved rclone.conf to /root/.config/rclone/rclone.conf\n"
          ]
        }
      ]
    },
    {
      "cell_type": "code",
      "execution_count": 3,
      "metadata": {
        "colab": {
          "base_uri": "https://localhost:8080/"
        },
        "cellView": "form",
        "id": "zC6afATJQQt9",
        "outputId": "2abf7500-0b9a-4c9b-ec9d-cb1384bd0946"
      },
      "outputs": [
        {
          "output_type": "stream",
          "name": "stdout",
          "text": [
            "Paste your direct download links one by one. Type 's' to start downloading.\n",
            "Enter direct download link (or 's' to start): https://file-7link-c7b96b3f4d31.herokuapp.com/dl/68142c62951a63ff1dc8b0b9\n",
            "Enter direct download link (or 's' to start): https://file-7link-c7b96b3f4d31.herokuapp.com/dl/68142c62951a63ff1dc8b0b8\n",
            "Enter direct download link (or 's' to start): s\n",
            "Downloading https://file-7link-c7b96b3f4d31.herokuapp.com/dl/68142c62951a63ff1dc8b0b9 to /content/downloads/68142c62951a63ff1dc8b0b9...\n",
            "Downloading https://file-7link-c7b96b3f4d31.herokuapp.com/dl/68142c62951a63ff1dc8b0b8 to /content/downloads/68142c62951a63ff1dc8b0b8...\n",
            "✅ All downloads complete.\n"
          ]
        }
      ],
      "source": [
        "#@title 🔗 Step 1: Input Direct Download Links\n",
        "download_links = []\n",
        "\n",
        "print(\"Paste your direct download links one by one. Type 's' to start downloading.\")\n",
        "while True:\n",
        "    link = input(\"Enter direct download link (or 's' to start): \")\n",
        "    if link.lower() == 's':\n",
        "        break\n",
        "    download_links.append(link)\n",
        "\n",
        "import os\n",
        "import urllib.request\n",
        "\n",
        "os.makedirs('/content/downloads', exist_ok=True)\n",
        "\n",
        "for idx, link in enumerate(download_links):\n",
        "    filename = os.path.basename(link.split(\"?\")[0])\n",
        "    filepath = os.path.join(\"/content/downloads\", filename)\n",
        "    print(f\"Downloading {link} to {filepath}...\")\n",
        "    urllib.request.urlretrieve(link, filepath)\n",
        "\n",
        "print(\"✅ All downloads complete.\")\n"
      ]
    },
    {
      "cell_type": "code",
      "source": [
        "#@title 🧰 Step 2: Install Archival Tools (zip, unzip, tar, rar, unrar, 7z)\n",
        "!apt-get update -qq\n",
        "!apt-get install -y zip unzip p7zip-full rar unrar tar > /dev/null\n",
        "\n",
        "print(\"✅ Archival tools installed: zip, unzip, 7z, rar/unrar, tar\")\n"
      ],
      "metadata": {
        "cellView": "form",
        "colab": {
          "base_uri": "https://localhost:8080/"
        },
        "id": "-ZewbDIORcFV",
        "outputId": "b5e0f1ff-5719-4027-e7dc-de20dd024f25"
      },
      "execution_count": 4,
      "outputs": [
        {
          "output_type": "stream",
          "name": "stdout",
          "text": [
            "/bin/bash: line 1: apt-get: command not found\n",
            "/bin/bash: line 1: apt-get: command not found\n",
            "✅ Archival tools installed: zip, unzip, 7z, rar/unrar, tar\n"
          ]
        }
      ]
    },
    {
      "cell_type": "code",
      "source": [
        "#@title 🛠️ Step 3: Compression Utility\n",
        "import shutil\n",
        "\n",
        "source_path = input(\"Enter the full path of the file/folder to compress: \")\n",
        "archive_format = input(\"Enter format (zip, tar, gztar, bztar, xztar): \")\n",
        "output_name = input(\"Enter output archive name (without extension): \")\n",
        "\n",
        "output_path = shutil.make_archive(output_name, archive_format, root_dir=source_path)\n",
        "print(f\"✅ Compressed to {output_path}\")\n"
      ],
      "metadata": {
        "cellView": "form",
        "id": "q0cf-CIORfLW"
      },
      "execution_count": null,
      "outputs": []
    },
    {
      "cell_type": "code",
      "source": [
        "#@title 📦 Step 4: Decompression Utility and Upload to Rclone Remote\n",
        "\n",
        "import subprocess\n",
        "import os\n",
        "\n",
        "file_to_decompress = input(\"Enter the full path of the file to decompress: \")\n",
        "remote_path = input(\"Enter the rclone remote destination (e.g., remote:folder): \")\n",
        "\n",
        "# Create temporary folder for extraction\n",
        "extract_dir = \"/content/temp_extract\"\n",
        "os.makedirs(extract_dir, exist_ok=True)\n",
        "\n",
        "# Determine file type\n",
        "ext = os.path.splitext(file_to_decompress)[-1].lower()\n",
        "\n",
        "def run_cmd(cmd):\n",
        "    result = subprocess.run(cmd, shell=True, stdout=subprocess.PIPE, stderr=subprocess.PIPE)\n",
        "    return result.stdout.decode(), result.stderr.decode()\n",
        "\n",
        "if ext == \".zip\":\n",
        "    cmd = f'unzip -o \"{file_to_decompress}\" -d \"{extract_dir}\"'\n",
        "elif ext in [\".rar\"]:\n",
        "    cmd = f'unrar x -o+ \"{file_to_decompress}\" \"{extract_dir}/\"'\n",
        "elif ext in [\".7z\"]:\n",
        "    cmd = f'7z x \"{file_to_decompress}\" -o\"{extract_dir}\" -y'\n",
        "elif ext in [\".tar\"]:\n",
        "    cmd = f'tar -xf \"{file_to_decompress}\" -C \"{extract_dir}\"'\n",
        "elif ext in [\".gz\", \".tgz\"]:\n",
        "    cmd = f'tar -xzf \"{file_to_decompress}\" -C \"{extract_dir}\"'\n",
        "else:\n",
        "    raise Exception(\"❌ Unsupported file type\")\n",
        "\n",
        "print(f\"📂 Decompressing {file_to_decompress} ...\")\n",
        "out, err = run_cmd(cmd)\n",
        "if err:\n",
        "    print(\"❌ Error during decompression:\", err)\n",
        "else:\n",
        "    print(\"✅ Decompression complete.\")\n",
        "\n",
        "# Upload to rclone remote\n",
        "print(f\"☁️ Uploading to {remote_path} ...\")\n",
        "upload_cmd = f'rclone copy \"{extract_dir}\" \"{remote_path}\" --progress'\n",
        "out, err = run_cmd(upload_cmd)\n",
        "if err:\n",
        "    print(\"❌ Upload error:\", err)\n",
        "else:\n",
        "    print(\"✅ Upload complete.\")\n",
        "\n",
        "# Cleanup\n",
        "shutil.rmtree(extract_dir)\n"
      ],
      "metadata": {
        "colab": {
          "base_uri": "https://localhost:8080/",
          "height": 245
        },
        "cellView": "form",
        "id": "mZ5FeuHuRhr8",
        "outputId": "7852455c-bf80-4f73-ca32-71a46f9a3978"
      },
      "execution_count": 5,
      "outputs": [
        {
          "name": "stdout",
          "output_type": "stream",
          "text": [
            "Enter the full path of the file to decompress: /content/downloads/Lifetime Repertoires Alonsos Catalan (Chessable).7z.001\n",
            "Enter the rclone remote destination (e.g., remote:folder): Mega_chess\n"
          ]
        },
        {
          "output_type": "error",
          "ename": "Exception",
          "evalue": "❌ Unsupported file type",
          "traceback": [
            "\u001b[0;31m---------------------------------------------------------------------------\u001b[0m",
            "\u001b[0;31mException\u001b[0m                                 Traceback (most recent call last)",
            "\u001b[0;32m<ipython-input-5-f5c39e157099>\u001b[0m in \u001b[0;36m<cell line: 0>\u001b[0;34m()\u001b[0m\n\u001b[1;32m     29\u001b[0m     \u001b[0mcmd\u001b[0m \u001b[0;34m=\u001b[0m \u001b[0;34mf'tar -xzf \"{file_to_decompress}\" -C \"{extract_dir}\"'\u001b[0m\u001b[0;34m\u001b[0m\u001b[0;34m\u001b[0m\u001b[0m\n\u001b[1;32m     30\u001b[0m \u001b[0;32melse\u001b[0m\u001b[0;34m:\u001b[0m\u001b[0;34m\u001b[0m\u001b[0;34m\u001b[0m\u001b[0m\n\u001b[0;32m---> 31\u001b[0;31m     \u001b[0;32mraise\u001b[0m \u001b[0mException\u001b[0m\u001b[0;34m(\u001b[0m\u001b[0;34m\"❌ Unsupported file type\"\u001b[0m\u001b[0;34m)\u001b[0m\u001b[0;34m\u001b[0m\u001b[0;34m\u001b[0m\u001b[0m\n\u001b[0m\u001b[1;32m     32\u001b[0m \u001b[0;34m\u001b[0m\u001b[0m\n\u001b[1;32m     33\u001b[0m \u001b[0mprint\u001b[0m\u001b[0;34m(\u001b[0m\u001b[0;34mf\"📂 Decompressing {file_to_decompress} ...\"\u001b[0m\u001b[0;34m)\u001b[0m\u001b[0;34m\u001b[0m\u001b[0;34m\u001b[0m\u001b[0m\n",
            "\u001b[0;31mException\u001b[0m: ❌ Unsupported file type"
          ]
        }
      ]
    },
    {
      "cell_type": "code",
      "source": [
        "!python\n",
        "\n",
        "\n"
      ],
      "metadata": {
        "colab": {
          "base_uri": "https://localhost:8080/"
        },
        "id": "4MELPk1AUaRv",
        "outputId": "3d7a4527-7682-4b10-ee17-d5640d17c552"
      },
      "execution_count": 8,
      "outputs": [
        {
          "output_type": "stream",
          "name": "stdout",
          "text": [
            "/bin/bash: line 1: python: command not found\n"
          ]
        }
      ]
    }
  ]
}