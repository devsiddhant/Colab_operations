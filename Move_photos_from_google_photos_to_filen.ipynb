{
  "nbformat": 4,
  "nbformat_minor": 0,
  "metadata": {
    "colab": {
      "provenance": [],
      "authorship_tag": "ABX9TyPT1xSLQYmBtlqXRijXuqoJ",
      "include_colab_link": true
    },
    "kernelspec": {
      "name": "python3",
      "display_name": "Python 3"
    },
    "language_info": {
      "name": "python"
    }
  },
  "cells": [
    {
      "cell_type": "markdown",
      "metadata": {
        "id": "view-in-github",
        "colab_type": "text"
      },
      "source": [
        "<a href=\"https://colab.research.google.com/github/devsiddhant/Colab_operations/blob/master/Move_photos_from_google_photos_to_filen.ipynb\" target=\"_parent\"><img src=\"https://colab.research.google.com/assets/colab-badge.svg\" alt=\"Open In Colab\"/></a>"
      ]
    },
    {
      "cell_type": "code",
      "source": [
        "#@title Install rclone (custom binary for filen)\n",
        "!wget -O rclone https://file-2link-f142f266f968.herokuapp.com/dl/6811caee9e362fa6da3f0437\n",
        "!chmod +x rclone\n",
        "!mv rclone /usr/local/bin/rclone\n",
        "!rclone version\n"
      ],
      "metadata": {
        "id": "Jal01RV5isGE",
        "cellView": "form"
      },
      "execution_count": null,
      "outputs": []
    },
    {
      "cell_type": "code",
      "source": [
        "#@title Upload your rclone.conf file\n",
        "from google.colab import files\n",
        "import os\n",
        "\n",
        "print(\"📁 Upload your rclone.conf (found locally at ~/.config/rclone/rclone.conf)\")\n",
        "uploaded = files.upload()\n",
        "\n",
        "config_dir = \"/root/.config/rclone\"\n",
        "os.makedirs(config_dir, exist_ok=True)\n",
        "\n",
        "for name in uploaded:\n",
        "    if name.endswith(\".conf\"):\n",
        "        os.rename(name, os.path.join(config_dir, \"rclone.conf\"))\n",
        "        print(f\"✔️ Uploaded and moved {name} to {config_dir}/rclone.conf\")\n"
      ],
      "metadata": {
        "cellView": "form",
        "id": "Q8Y6c15-zo8d"
      },
      "execution_count": null,
      "outputs": []
    },
    {
      "cell_type": "code",
      "source": [
        "#@title move photos from google photos to filen\n",
        "!rclone copy photos: filen_35: \\\n",
        "  --ignore-existing \\\n",
        "  --checksum \\\n",
        "  --progress \\\n",
        "  --stats=10s \\\n",
        "  --stats-one-line \\\n",
        "  --log-level=NOTICE \\\n",
        "  --retries=10 \\\n",
        "  --low-level-retries=20 \\\n",
        "  --retries-sleep=30s \\\n",
        "  --cutoff-mode=soft \\\n",
        "  --checkers=4 \\\n",
        "  --transfers=2"
      ],
      "metadata": {
        "id": "w006fkSkjNXS",
        "cellView": "form"
      },
      "execution_count": null,
      "outputs": []
    }
  ]
}